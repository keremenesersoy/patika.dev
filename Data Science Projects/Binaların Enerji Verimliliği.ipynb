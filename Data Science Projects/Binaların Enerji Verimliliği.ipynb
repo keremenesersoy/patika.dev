{
 "cells": [
  {
   "cell_type": "code",
   "execution_count": 10,
   "metadata": {},
   "outputs": [
    {
     "name": "stdout",
     "output_type": "stream",
     "text": [
      "       X1     X2     X3      X4   X5  X6   X7  X8     Y1     Y2\n",
      "0    0.98  514.5  294.0  110.25  7.0   2  0.0   0  15.55  21.33\n",
      "1    0.98  514.5  294.0  110.25  7.0   3  0.0   0  15.55  21.33\n",
      "2    0.98  514.5  294.0  110.25  7.0   4  0.0   0  15.55  21.33\n",
      "3    0.98  514.5  294.0  110.25  7.0   5  0.0   0  15.55  21.33\n",
      "4    0.90  563.5  318.5  122.50  7.0   2  0.0   0  20.84  28.28\n",
      "..    ...    ...    ...     ...  ...  ..  ...  ..    ...    ...\n",
      "763  0.64  784.0  343.0  220.50  3.5   5  0.4   5  17.88  21.40\n",
      "764  0.62  808.5  367.5  220.50  3.5   2  0.4   5  16.54  16.88\n",
      "765  0.62  808.5  367.5  220.50  3.5   3  0.4   5  16.44  17.11\n",
      "766  0.62  808.5  367.5  220.50  3.5   4  0.4   5  16.48  16.61\n",
      "767  0.62  808.5  367.5  220.50  3.5   5  0.4   5  16.64  16.03\n",
      "\n",
      "[768 rows x 10 columns]\n"
     ]
    }
   ],
   "source": [
    "import numpy as np\n",
    "import pandas as pd\n",
    "import matplotlib.pyplot as plt\n",
    "from sklearn.metrics import mean_squared_error , mean_squared_log_error\n",
    "\n",
    "df = pd.read_csv('C:\\\\Users\\\\Enes\\\\PycharmProjects\\\\PATIKA\\\\ENB2012_data.csv')\n",
    "print(df)\n"
   ]
  },
  {
   "cell_type": "code",
   "execution_count": 3,
   "metadata": {},
   "outputs": [],
   "source": [
    "x = df.iloc[:,:-2].values\n",
    "y = df.iloc[:,-2:].values"
   ]
  },
  {
   "cell_type": "code",
   "execution_count": 4,
   "metadata": {},
   "outputs": [],
   "source": [
    "from sklearn.model_selection import train_test_split\n",
    "\n",
    "x_train , x_test , y_train , y_test = train_test_split(x , y , test_size = 0.33 , random_state = 15)"
   ]
  },
  {
   "cell_type": "markdown",
   "metadata": {},
   "source": [
    "# Linear Regression"
   ]
  },
  {
   "cell_type": "code",
   "execution_count": 5,
   "metadata": {},
   "outputs": [],
   "source": [
    "from sklearn.linear_model import LinearRegression\n",
    "lr = LinearRegression()\n",
    "\n",
    "lr.fit(x_train,y_train)\n",
    "pred = lr.predict(x_test)"
   ]
  },
  {
   "cell_type": "code",
   "execution_count": 13,
   "metadata": {},
   "outputs": [
    {
     "name": "stdout",
     "output_type": "stream",
     "text": [
      "R2 = 0.8860747440002968\n",
      "RMSE = 0.09824476010959379\n",
      "RMSLE = 0.00024039131345634468\n"
     ]
    }
   ],
   "source": [
    "print(\"R2 =\",lr.score(x_test,y_test))\n",
    "print(\"RMSE =\" , mean_squared_error(y_test,pred))\n",
    "print(\"RMSLE =\" , mean_squared_log_error(y_test,pred))"
   ]
  },
  {
   "cell_type": "code",
   "execution_count": 7,
   "metadata": {},
   "outputs": [
    {
     "data": {
      "text/plain": [
       "<matplotlib.collections.PathCollection at 0x2c157674280>"
      ]
     },
     "execution_count": 7,
     "metadata": {},
     "output_type": "execute_result"
    },
    {
     "data": {
      "image/png": "[encoded data removed]",
      "text/plain": [
       "<Figure size 432x288 with 1 Axes>"
      ]
     },
     "metadata": {
      "needs_background": "light"
     },
     "output_type": "display_data"
    }
   ],
   "source": [
    "plt.scatter(pred,y_test)"
   ]
  },
  {
   "cell_type": "markdown",
   "metadata": {},
   "source": [
    "# Polynomial Regression"
   ]
  },
  {
   "cell_type": "code",
   "execution_count": 15,
   "metadata": {},
   "outputs": [
    {
     "name": "stdout",
     "output_type": "stream",
     "text": [
      "R2 = 0.9990072587485331\n",
      "RMSE = 0.09824476010959379\n",
      "RMSLE = 0.00024039131345634468\n"
     ]
    }
   ],
   "source": [
    "from sklearn.preprocessing import PolynomialFeatures\n",
    "\n",
    "poly_reg = PolynomialFeatures(degree=8) # derece yükselcikçe daha iyi sonuç veriyor\n",
    "x_poly = poly_reg.fit_transform(x_test)\n",
    "lin_reg = LinearRegression()\n",
    "lin_reg.fit(x_poly,y_test)\n",
    "\n",
    "pred = lin_reg.predict(x_poly)\n",
    "print(\"R2 =\",lin_reg.score(x_poly,y_test))\n",
    "print(\"RMSE =\" , mean_squared_error(y_test,pred))\n",
    "print(\"RMSLE =\" , mean_squared_log_error(y_test,pred))"
   ]
  },
  {
   "cell_type": "code",
   "execution_count": 9,
   "metadata": {},
   "outputs": [
    {
     "data": {
      "text/plain": [
       "<matplotlib.collections.PathCollection at 0x2c15775ec40>"
      ]
     },
     "execution_count": 9,
     "metadata": {},
     "output_type": "execute_result"
    },
    {
     "data": {
      "image/png": "[encoded data removed]",
      "text/plain": [
       "<Figure size 432x288 with 1 Axes>"
      ]
     },
     "metadata": {
      "needs_background": "light"
     },
     "output_type": "display_data"
    }
   ],
   "source": [
    "plt.scatter(pred,y_test)"
   ]
  },
  {
   "cell_type": "markdown",
   "metadata": {},
   "source": [
    "# Random Forest"
   ]
  },
  {
   "cell_type": "code",
   "execution_count": 21,
   "metadata": {},
   "outputs": [
    {
     "name": "stdout",
     "output_type": "stream",
     "text": [
      "R2 = 0.9967980972145218\n",
      "RMSE = 0.2916057539062495\n",
      "RMSLE = 0.0002602090965307019\n"
     ]
    }
   ],
   "source": [
    "from sklearn.ensemble import RandomForestRegressor\n",
    "r_rf = RandomForestRegressor(random_state=0 , n_estimators=10) # n_estimators kaçtane karar ağacı çizecegimizi belirler\n",
    "r_rf.fit(x,y)\n",
    "pred = r_rf.predict(x)\n",
    "\n",
    "print(\"R2 =\",r_rf.score(x,y))\n",
    "print(\"RMSE =\" , mean_squared_error(y,pred))\n",
    "print(\"RMSLE =\" , mean_squared_log_error(y,pred))\n"
   ]
  },
  {
   "cell_type": "code",
   "execution_count": 22,
   "metadata": {},
   "outputs": [
    {
     "data": {
      "text/plain": [
       "<matplotlib.collections.PathCollection at 0x2c1537fe8b0>"
      ]
     },
     "execution_count": 22,
     "metadata": {},
     "output_type": "execute_result"
    },
    {
     "data": {
      "image/png": "[encoded data removed]",
      "text/plain": [
       "<Figure size 432x288 with 1 Axes>"
      ]
     },
     "metadata": {
      "needs_background": "light"
     },
     "output_type": "display_data"
    }
   ],
   "source": [
    "plt.scatter(pred,y)"
   ]
  }
 ],
 "metadata": {
  "kernelspec": {
   "display_name": "Python 3.9.7 ('base')",
   "language": "python",
   "name": "python3"
  },
  "language_info": {
   "codemirror_mode": {
    "name": "ipython",
    "version": 3
   },
   "file_extension": ".py",
   "mimetype": "text/x-python",
   "name": "python",
   "nbconvert_exporter": "python",
   "pygments_lexer": "ipython3",
   "version": "3.9.7"
  },
  "orig_nbformat": 4,
  "vscode": {
   "interpreter": {
    "hash": "ad2bdc8ecc057115af97d19610ffacc2b4e99fae6737bb82f5d7fb13d2f2c186"
   }
  }
 },
 "nbformat": 4,
 "nbformat_minor": 2
}
