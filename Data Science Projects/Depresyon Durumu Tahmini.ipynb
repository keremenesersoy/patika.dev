{
 "cells": [
  {
   "cell_type": "code",
   "execution_count": 1,
   "metadata": {},
   "outputs": [
    {
     "name": "stdout",
     "output_type": "stream",
     "text": [
      "          number  days  gender    age  afftype  melanch  inpatient    edu  \\\n",
      "0    condition_1    11       2  35-39      2.0      2.0        2.0   6-10   \n",
      "1    condition_2    18       2  40-44      1.0      2.0        2.0   6-10   \n",
      "2    condition_3    13       1  45-49      2.0      2.0        2.0   6-10   \n",
      "3    condition_4    13       2  25-29      2.0      2.0        2.0  11-15   \n",
      "4    condition_5    13       2  50-54      2.0      2.0        2.0  11-15   \n",
      "5    condition_6     7       1  35-39      2.0      2.0        2.0   6-10   \n",
      "6    condition_7    11       1  20-24      1.0      NaN        2.0  11-15   \n",
      "7    condition_8     5       2  25-29      2.0      NaN        2.0  11-15   \n",
      "8    condition_9    13       2  45-49      1.0      NaN        2.0   6-10   \n",
      "9   condition_10     9       2  45-49      2.0      2.0        2.0   6-10   \n",
      "10  condition_11    14       1  45-49      2.0      2.0        2.0   6-10   \n",
      "11  condition_12    12       2  40-44      1.0      2.0        2.0   6-10   \n",
      "12  condition_13    14       2  35-39      1.0      2.0        2.0  11-15   \n",
      "13  condition_14    14       1  60-64      1.0      2.0        2.0   6-10   \n",
      "14  condition_15    13       2  55-59      2.0      2.0        2.0  11-15   \n",
      "15  condition_16    16       1  45-49      2.0      2.0        2.0  11-15   \n",
      "16  condition_17    13       1  50-54      1.0      2.0        2.0   6-10   \n",
      "17  condition_18    13       2  40-44      3.0      2.0        2.0  11-15   \n",
      "18  condition_19    13       2  50-54      2.0      2.0        1.0  16-20   \n",
      "19  condition_20    13       1  30-34      2.0      1.0        1.0   6-10   \n",
      "20  condition_21    13       2  35-39      2.0      2.0        1.0   6-10   \n",
      "21  condition_22    14       1  65-69      2.0      2.0        1.0          \n",
      "22  condition_23    16       1  30-34      2.0      2.0        1.0  16-20   \n",
      "23     control_1     8       2  25-29      NaN      NaN        NaN    NaN   \n",
      "24     control_2    20       1  30-34      NaN      NaN        NaN          \n",
      "25     control_3    12       2  30-34      NaN      NaN        NaN          \n",
      "26     control_4    13       1  25-29      NaN      NaN        NaN          \n",
      "27     control_5    13       1  30-34      NaN      NaN        NaN          \n",
      "28     control_6    13       1  25-29      NaN      NaN        NaN          \n",
      "29     control_7    13       1  20-24      NaN      NaN        NaN          \n",
      "30     control_8    13       2  40-44      NaN      NaN        NaN          \n",
      "31     control_9    13       2  30-34      NaN      NaN        NaN          \n",
      "32    control_10     8       1  30-34      NaN      NaN        NaN          \n",
      "33    control_11    13       1  45-49      NaN      NaN        NaN          \n",
      "34    control_12    14       1  60-64      NaN      NaN        NaN          \n",
      "35    control_13    13       1  50-54      NaN      NaN        NaN    NaN   \n",
      "36    control_14    13       1  50-54      NaN      NaN        NaN          \n",
      "37    control_15    11       1  45-49      NaN      NaN        NaN          \n",
      "38    control_16    13       2  40-44      NaN      NaN        NaN          \n",
      "39    control_17     9       1  45-49      NaN      NaN        NaN          \n",
      "40    control_18    13       2  20-24      NaN      NaN        NaN          \n",
      "41    control_19    13       1  50-54      NaN      NaN        NaN          \n",
      "42    control_20    13       1  35-39      NaN      NaN        NaN          \n",
      "43    control_21     8       1  50-54      NaN      NaN        NaN          \n",
      "44    control_22    13       1  25-29      NaN      NaN        NaN          \n",
      "45    control_23    13       1  20-24      NaN      NaN        NaN          \n",
      "46    control_24    13       2  20-24      NaN      NaN        NaN          \n",
      "47    control_25    13       1  65-69      NaN      NaN        NaN          \n",
      "48    control_26    13       1  35-39      NaN      NaN        NaN          \n",
      "49    control_27    13       2  50-54      NaN      NaN        NaN          \n",
      "50    control_28    16       2  45-49      NaN      NaN        NaN          \n",
      "51    control_29    13       2  50-54      NaN      NaN        NaN          \n",
      "52    control_30     9       2  35-39      NaN      NaN        NaN          \n",
      "53    control_31    13       1  20-24      NaN      NaN        NaN          \n",
      "54    control_32    14       2  25-29      NaN      NaN        NaN          \n",
      "\n",
      "    marriage  work  madrs1  madrs2  \n",
      "0        1.0   2.0    19.0    19.0  \n",
      "1        2.0   2.0    24.0    11.0  \n",
      "2        2.0   2.0    24.0    25.0  \n",
      "3        1.0   1.0    20.0    16.0  \n",
      "4        2.0   2.0    26.0    26.0  \n",
      "5        1.0   2.0    18.0    15.0  \n",
      "6        2.0   1.0    24.0    25.0  \n",
      "7        1.0   2.0    20.0    16.0  \n",
      "8        1.0   2.0    26.0    26.0  \n",
      "9        1.0   2.0    28.0    21.0  \n",
      "10       1.0   2.0    24.0    24.0  \n",
      "11       2.0   2.0    25.0    21.0  \n",
      "12       2.0   2.0    18.0    13.0  \n",
      "13       2.0   2.0    28.0    19.0  \n",
      "14       1.0   1.0    14.0    18.0  \n",
      "15       1.0   2.0    13.0    17.0  \n",
      "16       1.0   2.0    17.0    15.0  \n",
      "17       2.0   2.0    18.0    15.0  \n",
      "18       2.0   2.0    26.0    21.0  \n",
      "19       1.0   2.0    27.0    25.0  \n",
      "20       2.0   2.0    26.0    21.0  \n",
      "21       2.0   2.0    29.0    28.0  \n",
      "22       2.0   2.0    29.0    23.0  \n",
      "23       NaN   NaN     NaN     NaN  \n",
      "24       NaN   NaN     NaN     NaN  \n",
      "25       NaN   NaN     NaN     NaN  \n",
      "26       NaN   NaN     NaN     NaN  \n",
      "27       NaN   NaN     NaN     NaN  \n",
      "28       NaN   NaN     NaN     NaN  \n",
      "29       NaN   NaN     NaN     NaN  \n",
      "30       NaN   NaN     NaN     NaN  \n",
      "31       NaN   NaN     NaN     NaN  \n",
      "32       NaN   NaN     NaN     NaN  \n",
      "33       NaN   NaN     NaN     NaN  \n",
      "34       NaN   NaN     NaN     NaN  \n",
      "35       NaN   NaN     NaN     NaN  \n",
      "36       NaN   NaN     NaN     NaN  \n",
      "37       NaN   NaN     NaN     NaN  \n",
      "38       NaN   NaN     NaN     NaN  \n",
      "39       NaN   NaN     NaN     NaN  \n",
      "40       NaN   NaN     NaN     NaN  \n",
      "41       NaN   NaN     NaN     NaN  \n",
      "42       NaN   NaN     NaN     NaN  \n",
      "43       NaN   NaN     NaN     NaN  \n",
      "44       NaN   NaN     NaN     NaN  \n",
      "45       NaN   NaN     NaN     NaN  \n",
      "46       NaN   NaN     NaN     NaN  \n",
      "47       NaN   NaN     NaN     NaN  \n",
      "48       NaN   NaN     NaN     NaN  \n",
      "49       NaN   NaN     NaN     NaN  \n",
      "50       NaN   NaN     NaN     NaN  \n",
      "51       NaN   NaN     NaN     NaN  \n",
      "52       NaN   NaN     NaN     NaN  \n",
      "53       NaN   NaN     NaN     NaN  \n",
      "54       NaN   NaN     NaN     NaN  \n"
     ]
    }
   ],
   "source": [
    "import numpy as np\n",
    "import pandas as pd\n",
    "import matplotlib.pyplot as plt\n",
    "from sklearn.metrics import mean_squared_error , mean_squared_log_error\n",
    "\n",
    "df = pd.read_csv('C:\\\\Users\\\\Enes\\\\PycharmProjects\\\\PATIKA\\\\scores.csv')\n",
    "print(df)"
   ]
  },
  {
   "cell_type": "code",
   "execution_count": 2,
   "metadata": {},
   "outputs": [],
   "source": [
    "from sklearn.preprocessing import LabelEncoder, OneHotEncoder\n",
    "\n",
    "le = LabelEncoder()\n",
    "\n",
    "age = df.iloc[:,3].values\n",
    "age = le.fit_transform(age)\n",
    "age = pd.Series(age)\n",
    "\n",
    "le = LabelEncoder()\n",
    "\n",
    "edu = df.iloc[:,7]\n",
    "edu = le.fit_transform(edu)\n",
    "edu = pd.Series(edu)\n",
    "\n",
    "for i in range(len(edu)):\n",
    "    if edu[i] == 4:\n",
    "        edu[i] = 0\n",
    "\n",
    "\n",
    "\n",
    "df = pd.concat([df.iloc[:,:3] , age , df.iloc[:,4:7] , edu , df.iloc[:,8:]],axis=1)\n",
    "df = df.dropna()\n",
    "df = df.drop('number',axis=1)\n"
   ]
  },
  {
   "cell_type": "code",
   "execution_count": 3,
   "metadata": {},
   "outputs": [],
   "source": [
    "x = df.iloc[:,:9].values\n",
    "y = df.iloc[:,9:].values"
   ]
  },
  {
   "cell_type": "code",
   "execution_count": 4,
   "metadata": {},
   "outputs": [],
   "source": [
    "from sklearn.model_selection import train_test_split\n",
    "\n",
    "x_train , x_test , y_train , y_test = train_test_split(x , y , test_size = 0.33 , random_state = 15)"
   ]
  },
  {
   "cell_type": "markdown",
   "metadata": {},
   "source": [
    "# Linear Regression"
   ]
  },
  {
   "cell_type": "code",
   "execution_count": 5,
   "metadata": {},
   "outputs": [],
   "source": [
    "from sklearn.linear_model import LinearRegression\n",
    "lr = LinearRegression()\n",
    "\n",
    "lr.fit(x_train,y_train)\n",
    "pred = lr.predict(x_test)"
   ]
  },
  {
   "cell_type": "code",
   "execution_count": 7,
   "metadata": {},
   "outputs": [
    {
     "name": "stdout",
     "output_type": "stream",
     "text": [
      "R2 = -4.897540036909828\n",
      "RMSE = 89.70489490105697\n"
     ]
    }
   ],
   "source": [
    "print(\"R2 =\",lr.score(x_test,y_test))\n",
    "print(\"RMSE =\" , mean_squared_error(y_test,pred))"
   ]
  },
  {
   "cell_type": "code",
   "execution_count": 8,
   "metadata": {},
   "outputs": [
    {
     "data": {
      "text/plain": [
       "<matplotlib.collections.PathCollection at 0x243501dedf0>"
      ]
     },
     "execution_count": 8,
     "metadata": {},
     "output_type": "execute_result"
    },
    {
     "data": {
      "image/png": "[encoded data removed]",
      "text/plain": [
       "<Figure size 432x288 with 1 Axes>"
      ]
     },
     "metadata": {
      "needs_background": "light"
     },
     "output_type": "display_data"
    }
   ],
   "source": [
    "plt.scatter(pred,y_test)"
   ]
  },
  {
   "cell_type": "markdown",
   "metadata": {},
   "source": [
    "# Polynomial Regression"
   ]
  },
  {
   "cell_type": "code",
   "execution_count": 9,
   "metadata": {},
   "outputs": [
    {
     "name": "stdout",
     "output_type": "stream",
     "text": [
      "R2 = 1.0\n",
      "RMSE = 1.1291980386163626e-28\n",
      "RMSLE = 1.5495482066841303e-31\n"
     ]
    }
   ],
   "source": [
    "from sklearn.preprocessing import PolynomialFeatures\n",
    "\n",
    "poly_reg = PolynomialFeatures(degree=8) # derece yükselcikçe daha iyi sonuç veriyor\n",
    "x_poly = poly_reg.fit_transform(x_test)\n",
    "lin_reg = LinearRegression()\n",
    "lin_reg.fit(x_poly,y_test)\n",
    "\n",
    "pred = lin_reg.predict(x_poly)\n",
    "print(\"R2 =\",lin_reg.score(x_poly,y_test))\n",
    "print(\"RMSE =\" , mean_squared_error(y_test,pred))\n",
    "print(\"RMSLE =\" , mean_squared_log_error(y_test,pred))"
   ]
  },
  {
   "cell_type": "code",
   "execution_count": 10,
   "metadata": {},
   "outputs": [
    {
     "data": {
      "text/plain": [
       "<matplotlib.collections.PathCollection at 0x24350432490>"
      ]
     },
     "execution_count": 10,
     "metadata": {},
     "output_type": "execute_result"
    },
    {
     "data": {
      "image/png": "[encoded data removed]",
      "text/plain": [
       "<Figure size 432x288 with 1 Axes>"
      ]
     },
     "metadata": {
      "needs_background": "light"
     },
     "output_type": "display_data"
    }
   ],
   "source": [
    "plt.scatter(pred,y_test)"
   ]
  },
  {
   "cell_type": "markdown",
   "metadata": {},
   "source": [
    "# Random Forest"
   ]
  },
  {
   "cell_type": "code",
   "execution_count": 11,
   "metadata": {},
   "outputs": [
    {
     "name": "stdout",
     "output_type": "stream",
     "text": [
      "R2 = 0.7951385083868161\n",
      "RMSE = 4.6217500000000005\n",
      "RMSLE = 0.011930620879613303\n"
     ]
    }
   ],
   "source": [
    "from sklearn.ensemble import RandomForestRegressor\n",
    "r_rf = RandomForestRegressor(random_state=0 , n_estimators=10) # n_estimators kaçtane karar ağacı çizecegimizi belirler\n",
    "r_rf.fit(x,y)\n",
    "pred = r_rf.predict(x)\n",
    "\n",
    "print(\"R2 =\",r_rf.score(x,y))\n",
    "print(\"RMSE =\" , mean_squared_error(y,pred))\n",
    "print(\"RMSLE =\" , mean_squared_log_error(y,pred))\n"
   ]
  },
  {
   "cell_type": "code",
   "execution_count": 12,
   "metadata": {},
   "outputs": [
    {
     "data": {
      "text/plain": [
       "<matplotlib.collections.PathCollection at 0x243506b7670>"
      ]
     },
     "execution_count": 12,
     "metadata": {},
     "output_type": "execute_result"
    },
    {
     "data": {
      "image/png": "[encoded data removed]",
      "text/plain": [
       "<Figure size 432x288 with 1 Axes>"
      ]
     },
     "metadata": {
      "needs_background": "light"
     },
     "output_type": "display_data"
    }
   ],
   "source": [
    "plt.scatter(pred,y)"
   ]
  },
  {
   "cell_type": "markdown",
   "metadata": {},
   "source": [
    "# Decision Tree"
   ]
  },
  {
   "cell_type": "code",
   "execution_count": 16,
   "metadata": {},
   "outputs": [
    {
     "name": "stdout",
     "output_type": "stream",
     "text": [
      "R2 = 0.7951385083868161\n",
      "RMSE = 0.0\n",
      "RMSLE = 0.0\n"
     ]
    },
    {
     "data": {
      "text/plain": [
       "<matplotlib.collections.PathCollection at 0x2434c2c82b0>"
      ]
     },
     "execution_count": 16,
     "metadata": {},
     "output_type": "execute_result"
    },
    {
     "data": {
      "image/png": "[encoded data removed]",
      "text/plain": [
       "<Figure size 432x288 with 1 Axes>"
      ]
     },
     "metadata": {
      "needs_background": "light"
     },
     "output_type": "display_data"
    }
   ],
   "source": [
    "from sklearn.tree import DecisionTreeRegressor\n",
    "r_dt = DecisionTreeRegressor(random_state = 0)\n",
    "r_dt.fit(x,y)\n",
    "pred = r_dt.predict(x)\n",
    "\n",
    "print(\"R2 =\",r_rf.score(x,y))\n",
    "print(\"RMSE =\" , mean_squared_error(y,pred))\n",
    "print(\"RMSLE =\" , mean_squared_log_error(y,pred))\n",
    "\n",
    "plt.scatter(y,pred)\n"
   ]
  },
  {
   "cell_type": "code",
   "execution_count": null,
   "metadata": {},
   "outputs": [],
   "source": []
  }
 ],
 "metadata": {
  "kernelspec": {
   "display_name": "Python 3.9.7 ('base')",
   "language": "python",
   "name": "python3"
  },
  "language_info": {
   "codemirror_mode": {
    "name": "ipython",
    "version": 3
   },
   "file_extension": ".py",
   "mimetype": "text/x-python",
   "name": "python",
   "nbconvert_exporter": "python",
   "pygments_lexer": "ipython3",
   "version": "3.9.7"
  },
  "orig_nbformat": 4,
  "vscode": {
   "interpreter": {
    "hash": "ad2bdc8ecc057115af97d19610ffacc2b4e99fae6737bb82f5d7fb13d2f2c186"
   }
  }
 },
 "nbformat": 4,
 "nbformat_minor": 2
}
